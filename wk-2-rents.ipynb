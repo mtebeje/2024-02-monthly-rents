{
 "cells": [
  {
   "cell_type": "code",
   "execution_count": 1,
   "id": "44d05227",
   "metadata": {},
   "outputs": [
    {
     "data": {
      "text/plain": [
       "25.0"
      ]
     },
     "execution_count": 1,
     "metadata": {},
     "output_type": "execute_result"
    }
   ],
   "source": [
    "700/(900+1_200+700)*100"
   ]
  },
  {
   "cell_type": "code",
   "execution_count": 17,
   "id": "ea423f1f",
   "metadata": {},
   "outputs": [],
   "source": [
    "alfred_monthly_23=900 \n",
    "fatima_monthly_23=1_200\n",
    "trina_monthly_23=700 "
   ]
  },
  {
   "cell_type": "code",
   "execution_count": 5,
   "id": "0429e107",
   "metadata": {},
   "outputs": [],
   "source": [
    "alfred_m, fatima_m, trina_m = 900, 1_200, 700"
   ]
  },
  {
   "cell_type": "code",
   "execution_count": 6,
   "id": "1d2f0c5f",
   "metadata": {},
   "outputs": [
    {
     "data": {
      "text/plain": [
       "900"
      ]
     },
     "execution_count": 6,
     "metadata": {},
     "output_type": "execute_result"
    }
   ],
   "source": [
    "alfred_m"
   ]
  },
  {
   "cell_type": "code",
   "execution_count": 14,
   "id": "2cd97600",
   "metadata": {},
   "outputs": [
    {
     "data": {
      "text/plain": [
       "900"
      ]
     },
     "execution_count": 14,
     "metadata": {},
     "output_type": "execute_result"
    }
   ],
   "source": [
    "alfred_m\n",
    "# fatima_monthly_23\n",
    "# #trina_m"
   ]
  },
  {
   "cell_type": "code",
   "execution_count": 26,
   "id": "e1a1372d",
   "metadata": {},
   "outputs": [
    {
     "data": {
      "text/plain": [
       "25.0"
      ]
     },
     "execution_count": 26,
     "metadata": {},
     "output_type": "execute_result"
    }
   ],
   "source": [
    "trina_monthly_23 / (alfred_monthly_23 +fatima_monthly_23 + trina_monthly_23)*100"
   ]
  },
  {
   "cell_type": "code",
   "execution_count": 29,
   "id": "f5b2651d",
   "metadata": {},
   "outputs": [],
   "source": [
    "trina_share_23 = \\\n",
    "trina_monthly_23 / (alfred_monthly_23 +\\\n",
    "                    fatima_monthly_23 + \\\n",
    "                    trina_monthly_23)*100"
   ]
  },
  {
   "cell_type": "code",
   "execution_count": 31,
   "id": "9e0fd957",
   "metadata": {},
   "outputs": [
    {
     "data": {
      "text/plain": [
       "25.0"
      ]
     },
     "execution_count": 31,
     "metadata": {},
     "output_type": "execute_result"
    }
   ],
   "source": [
    "trina_share_23"
   ]
  },
  {
   "cell_type": "code",
   "execution_count": null,
   "id": "a5313108",
   "metadata": {},
   "outputs": [],
   "source": []
  },
  {
   "cell_type": "code",
   "execution_count": null,
   "id": "4b98062d",
   "metadata": {},
   "outputs": [],
   "source": []
  },
  {
   "cell_type": "code",
   "execution_count": null,
   "id": "b879560d",
   "metadata": {},
   "outputs": [],
   "source": []
  },
  {
   "cell_type": "code",
   "execution_count": null,
   "id": "2f43e93a",
   "metadata": {},
   "outputs": [],
   "source": []
  }
 ],
 "metadata": {
  "kernelspec": {
   "display_name": "Python 3 (ipykernel)",
   "language": "python",
   "name": "python3"
  },
  "language_info": {
   "codemirror_mode": {
    "name": "ipython",
    "version": 3
   },
   "file_extension": ".py",
   "mimetype": "text/x-python",
   "name": "python",
   "nbconvert_exporter": "python",
   "pygments_lexer": "ipython3",
   "version": "3.11.5"
  }
 },
 "nbformat": 4,
 "nbformat_minor": 5
}
